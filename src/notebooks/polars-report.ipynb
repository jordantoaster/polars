{
 "cells": [
  {
   "cell_type": "markdown",
   "id": "1518239c-a70d-410b-a3e5-727229610560",
   "metadata": {},
   "source": [
    "# Polars - V1 Report\n",
    "\n",
    "[polars](https://www.pola.rs/)\n",
    "\n",
    "The goal of Polars is to provide a lightning fast DataFrame library, that:\n",
    "\n",
    "- Utilizes all available cores on your machine.\n",
    "- Optimizes queries to reduce unneeded work/memory allocations.\n",
    "- Handles datasets much larger than your available RAM.\n",
    "- Has an API that is consistent and predictable.\n",
    "- Has a strict schema (data-types should be known before running the query).\n",
    "- Polars is written in Rust which gives it C/C++ performance and allows it to fully control performance critical parts in a query engine.\n",
    "\n",
    "As such Polars goes to great lengths to:\n",
    "\n",
    "- Reduce redundant copies.\n",
    "- Traverse memory cache efficiently.\n",
    "- Minimize contention in parallelism.\n",
    "- Process data in chunks.\n",
    "- Reuse memory allocations.\n",
    "ry allocations."
   ]
  },
  {
   "cell_type": "markdown",
   "id": "cd604ce4-6928-43e4-a9e3-afba7a3b7c4b",
   "metadata": {},
   "source": [
    "## Imports"
   ]
  },
  {
   "cell_type": "code",
   "execution_count": 3,
   "id": "0188f84f-cb17-490f-b6c8-e0fb6591241a",
   "metadata": {},
   "outputs": [],
   "source": [
    "import polars as pl\n",
    "import pandas as pd"
   ]
  },
  {
   "cell_type": "markdown",
   "id": "a3a73561-f16d-4ca8-ad91-9f6b2cc678f8",
   "metadata": {},
   "source": [
    "## Next Heading"
   ]
  },
  {
   "cell_type": "code",
   "execution_count": 10,
   "id": "de91b92d-ee22-4a95-91c0-8b1feef481b5",
   "metadata": {},
   "outputs": [
    {
     "name": "stdout",
     "output_type": "stream",
     "text": [
      "10.7 ns ± 0.147 ns per loop (mean ± std. dev. of 7 runs, 100,000,000 loops each)\n"
     ]
    }
   ],
   "source": [
    "%timeit x=1"
   ]
  },
  {
   "cell_type": "code",
   "execution_count": null,
   "id": "b3397349-b9b2-4d74-ba93-b985ceb9046a",
   "metadata": {},
   "outputs": [],
   "source": []
  },
  {
   "cell_type": "code",
   "execution_count": null,
   "id": "bb9135bf-9262-4ebc-9e73-17557748e075",
   "metadata": {},
   "outputs": [],
   "source": []
  },
  {
   "cell_type": "code",
   "execution_count": null,
   "id": "8c71ef74-2a85-43ac-967c-7cf8dfd2f5cc",
   "metadata": {},
   "outputs": [],
   "source": []
  },
  {
   "cell_type": "markdown",
   "id": "33a2b9ef-29c3-4020-a88f-65e1a558825c",
   "metadata": {},
   "source": [
    "## Next Heading"
   ]
  },
  {
   "cell_type": "markdown",
   "id": "77a0990d-5df1-447b-9f54-54f40f4c388f",
   "metadata": {},
   "source": [
    "## Next Heading"
   ]
  },
  {
   "cell_type": "markdown",
   "id": "d0de6ba7-7aeb-4f6f-ae73-e18355e9bdd0",
   "metadata": {},
   "source": [
    "## Next Heading"
   ]
  },
  {
   "cell_type": "markdown",
   "id": "640a36d1-068c-4a4c-80e3-671b4b9a4a47",
   "metadata": {},
   "source": [
    "## Key Findings\n",
    "\n",
    "- PRO: Polars is built upon the safe Arrow2 implementation of the [Apache Arrow specification](https://arrow.apache.org/docs/format/Columnar.html), enabling efficient resource use and processing performance. By doing so it also integrates seamlessly with other tools in the Arrow ecosystem.\n",
    "- CON:\n",
    "- PRO:\n",
    "- PRO:"
   ]
  },
  {
   "cell_type": "markdown",
   "id": "51195c96-f21e-4f97-8bc9-88c0d4b50a18",
   "metadata": {},
   "source": [
    "- pros, cons\n",
    "- compare to pandas - run a few experiments\n",
    "- Reading greater than memory data\n",
    "- scan v read csv, examples of when to use each.\n",
    "- does polars have parity with pandas? where are the differences?"
   ]
  },
  {
   "cell_type": "code",
   "execution_count": null,
   "id": "a3b59e4f-dd98-45d8-a4c7-1dfe7991c2c4",
   "metadata": {},
   "outputs": [],
   "source": []
  }
 ],
 "metadata": {
  "kernelspec": {
   "display_name": "Python 3 (ipykernel)",
   "language": "python",
   "name": "python3"
  },
  "language_info": {
   "codemirror_mode": {
    "name": "ipython",
    "version": 3
   },
   "file_extension": ".py",
   "mimetype": "text/x-python",
   "name": "python",
   "nbconvert_exporter": "python",
   "pygments_lexer": "ipython3",
   "version": "3.10.9"
  }
 },
 "nbformat": 4,
 "nbformat_minor": 5
}
