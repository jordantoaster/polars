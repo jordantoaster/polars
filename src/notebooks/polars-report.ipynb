{
 "cells": [
  {
   "cell_type": "markdown",
   "id": "1518239c-a70d-410b-a3e5-727229610560",
   "metadata": {},
   "source": [
    "# Polars - V1 Report\n",
    "\n",
    "[polars](https://www.pola.rs/)\n",
    "\n",
    "The goal of Polars is to provide a lightning fast DataFrame library, that:\n",
    "\n",
    "- Utilizes all available cores on your machine.\n",
    "- Optimizes queries to reduce unneeded work/memory allocations.\n",
    "- Handles datasets much larger than your available RAM.\n",
    "- Has an API that is consistent and predictable.\n",
    "- Has a strict schema (data-types should be known before running the query).\n",
    "- Polars is written in Rust which gives it C/C++ performance and allows it to fully control performance critical parts in a query engine.\n",
    "\n",
    "As such Polars goes to great lengths to:\n",
    "\n",
    "- Reduce redundant copies.\n",
    "- Traverse memory cache efficiently.\n",
    "- Minimize contention in parallelism.\n",
    "- Process data in chunks.\n",
    "- Reuse memory allocations.\n",
    "ry allocations."
   ]
  },
  {
   "cell_type": "markdown",
   "id": "cd604ce4-6928-43e4-a9e3-afba7a3b7c4b",
   "metadata": {},
   "source": [
    "## Imports"
   ]
  },
  {
   "cell_type": "code",
   "execution_count": 1,
   "id": "0188f84f-cb17-490f-b6c8-e0fb6591241a",
   "metadata": {},
   "outputs": [],
   "source": [
    "import polars as pl\n",
    "import pandas as pd\n",
    "import numpy as np"
   ]
  },
  {
   "cell_type": "markdown",
   "id": "a3a73561-f16d-4ca8-ad91-9f6b2cc678f8",
   "metadata": {},
   "source": [
    "## Basic Polars"
   ]
  },
  {
   "cell_type": "markdown",
   "id": "a34b655a-95ed-4e82-a2dc-24a7c44f750b",
   "metadata": {},
   "source": [
    "Like Pandas, Polars is composed of series and dataframe data structures. Unlike pandas, printing the structures shows the format of the data - i64 etc.\n",
    "\n",
    "The data structures respect the use of the common utility functios such as head, tail, describe and sample."
   ]
  },
  {
   "cell_type": "code",
   "execution_count": 2,
   "id": "b3397349-b9b2-4d74-ba93-b985ceb9046a",
   "metadata": {},
   "outputs": [
    {
     "data": {
      "text/html": [
       "<div><style>\n",
       ".dataframe > thead > tr > th,\n",
       ".dataframe > tbody > tr > td {\n",
       "  text-align: right;\n",
       "}\n",
       "</style>\n",
       "<small>shape: (5,)</small><table border=\"1\" class=\"dataframe\"><thead><tr><th>a</th></tr><tr><td>i64</td></tr></thead><tbody><tr><td>1</td></tr><tr><td>2</td></tr><tr><td>3</td></tr><tr><td>4</td></tr><tr><td>5</td></tr></tbody></table></div>"
      ],
      "text/plain": [
       "shape: (5,)\n",
       "Series: 'a' [i64]\n",
       "[\n",
       "\t1\n",
       "\t2\n",
       "\t3\n",
       "\t4\n",
       "\t5\n",
       "]"
      ]
     },
     "execution_count": 2,
     "metadata": {},
     "output_type": "execute_result"
    }
   ],
   "source": [
    "pl.Series(\"a\", [1, 2, 3, 4, 5])"
   ]
  },
  {
   "cell_type": "code",
   "execution_count": 3,
   "id": "bb9135bf-9262-4ebc-9e73-17557748e075",
   "metadata": {},
   "outputs": [
    {
     "data": {
      "text/html": [
       "<div><style>\n",
       ".dataframe > thead > tr > th,\n",
       ".dataframe > tbody > tr > td {\n",
       "  text-align: right;\n",
       "}\n",
       "</style>\n",
       "<small>shape: (5, 3)</small><table border=\"1\" class=\"dataframe\"><thead><tr><th>integer</th><th>date</th><th>float</th></tr><tr><td>i64</td><td>datetime[μs]</td><td>f64</td></tr></thead><tbody><tr><td>1</td><td>2022-01-01 00:00:00</td><td>4.0</td></tr><tr><td>2</td><td>2022-01-02 00:00:00</td><td>5.0</td></tr><tr><td>3</td><td>2022-01-03 00:00:00</td><td>6.0</td></tr><tr><td>4</td><td>2022-01-04 00:00:00</td><td>7.0</td></tr><tr><td>5</td><td>2022-01-05 00:00:00</td><td>8.0</td></tr></tbody></table></div>"
      ],
      "text/plain": [
       "shape: (5, 3)\n",
       "┌─────────┬─────────────────────┬───────┐\n",
       "│ integer ┆ date                ┆ float │\n",
       "│ ---     ┆ ---                 ┆ ---   │\n",
       "│ i64     ┆ datetime[μs]        ┆ f64   │\n",
       "╞═════════╪═════════════════════╪═══════╡\n",
       "│ 1       ┆ 2022-01-01 00:00:00 ┆ 4.0   │\n",
       "│ 2       ┆ 2022-01-02 00:00:00 ┆ 5.0   │\n",
       "│ 3       ┆ 2022-01-03 00:00:00 ┆ 6.0   │\n",
       "│ 4       ┆ 2022-01-04 00:00:00 ┆ 7.0   │\n",
       "│ 5       ┆ 2022-01-05 00:00:00 ┆ 8.0   │\n",
       "└─────────┴─────────────────────┴───────┘"
      ]
     },
     "execution_count": 3,
     "metadata": {},
     "output_type": "execute_result"
    }
   ],
   "source": [
    "from datetime import datetime\n",
    "\n",
    "pl.DataFrame(\n",
    "    {\n",
    "        \"integer\": [1, 2, 3, 4, 5],\n",
    "        \"date\": [\n",
    "            datetime(2022, 1, 1),\n",
    "            datetime(2022, 1, 2),\n",
    "            datetime(2022, 1, 3),\n",
    "            datetime(2022, 1, 4),\n",
    "            datetime(2022, 1, 5),\n",
    "        ],\n",
    "        \"float\": [4.0, 5.0, 6.0, 7.0, 8.0],\n",
    "    }\n",
    ")"
   ]
  },
  {
   "cell_type": "markdown",
   "id": "43bc1e10-faac-43aa-95e4-78be24895743",
   "metadata": {},
   "source": [
    "Polars has developed its own Domain Specific Language (DSL) for transforming data. The language is very easy to use and allows for complex queries that remain human readable. The two core components of the language are Contexts and Expressions"
   ]
  },
  {
   "cell_type": "code",
   "execution_count": 4,
   "id": "b1a9e1b5-48f1-4f23-9820-a79a944d6258",
   "metadata": {},
   "outputs": [],
   "source": [
    "df = pl.DataFrame(\n",
    "    {\n",
    "        \"nrs\": [1, 2, 3, None, 5],\n",
    "        \"names\": [\"foo\", \"ham\", \"spam\", \"egg\", None],\n",
    "        \"random\": np.random.rand(5),\n",
    "        \"groups\": [\"A\", \"A\", \"B\", \"C\", \"B\"],\n",
    "    }\n",
    ")"
   ]
  },
  {
   "cell_type": "markdown",
   "id": "379da14f-bcd2-4376-92ac-fb84a6e9000c",
   "metadata": {},
   "source": [
    "In the select context the selection applies expressions over columns. The expressions in this context must produce Series that are all the same length or have a length of 1.\r\n",
    "\r\n",
    "A Series of a length of 1 will be broadcasted to match the height of the DataFrame. Note that a select may produce new columns that are aggregations, combinations of expressions, or literals."
   ]
  },
  {
   "cell_type": "code",
   "execution_count": 5,
   "id": "a9256686-5d98-4cdc-a540-45c5207e791a",
   "metadata": {},
   "outputs": [
    {
     "data": {
      "text/html": [
       "<div><style>\n",
       ".dataframe > thead > tr > th,\n",
       ".dataframe > tbody > tr > td {\n",
       "  text-align: right;\n",
       "}\n",
       "</style>\n",
       "<small>shape: (5, 4)</small><table border=\"1\" class=\"dataframe\"><thead><tr><th>nrs</th><th>names</th><th>first name</th><th>10xnrs</th></tr><tr><td>i64</td><td>str</td><td>str</td><td>f64</td></tr></thead><tbody><tr><td>11</td><td>null</td><td>&quot;foo&quot;</td><td>27.5</td></tr><tr><td>11</td><td>&quot;egg&quot;</td><td>&quot;foo&quot;</td><td>27.5</td></tr><tr><td>11</td><td>&quot;foo&quot;</td><td>&quot;foo&quot;</td><td>27.5</td></tr><tr><td>11</td><td>&quot;ham&quot;</td><td>&quot;foo&quot;</td><td>27.5</td></tr><tr><td>11</td><td>&quot;spam&quot;</td><td>&quot;foo&quot;</td><td>27.5</td></tr></tbody></table></div>"
      ],
      "text/plain": [
       "shape: (5, 4)\n",
       "┌─────┬───────┬────────────┬────────┐\n",
       "│ nrs ┆ names ┆ first name ┆ 10xnrs │\n",
       "│ --- ┆ ---   ┆ ---        ┆ ---    │\n",
       "│ i64 ┆ str   ┆ str        ┆ f64    │\n",
       "╞═════╪═══════╪════════════╪════════╡\n",
       "│ 11  ┆ null  ┆ foo        ┆ 27.5   │\n",
       "│ 11  ┆ egg   ┆ foo        ┆ 27.5   │\n",
       "│ 11  ┆ foo   ┆ foo        ┆ 27.5   │\n",
       "│ 11  ┆ ham   ┆ foo        ┆ 27.5   │\n",
       "│ 11  ┆ spam  ┆ foo        ┆ 27.5   │\n",
       "└─────┴───────┴────────────┴────────┘"
      ]
     },
     "execution_count": 5,
     "metadata": {},
     "output_type": "execute_result"
    }
   ],
   "source": [
    "df.select(\n",
    "    pl.sum(\"nrs\"),\n",
    "    pl.col(\"names\").sort(),\n",
    "    pl.col(\"names\").first().alias(\"first name\"),\n",
    "    (pl.mean(\"nrs\") * 10).alias(\"10xnrs\"),\n",
    ")"
   ]
  },
  {
   "cell_type": "code",
   "execution_count": 6,
   "id": "2371e481-2737-4160-b724-900cf3d0cc86",
   "metadata": {},
   "outputs": [
    {
     "data": {
      "text/html": [
       "<div><style>\n",
       ".dataframe > thead > tr > th,\n",
       ".dataframe > tbody > tr > td {\n",
       "  text-align: right;\n",
       "}\n",
       "</style>\n",
       "<small>shape: (5, 6)</small><table border=\"1\" class=\"dataframe\"><thead><tr><th>nrs</th><th>names</th><th>random</th><th>groups</th><th>nrs_sum</th><th>count</th></tr><tr><td>i64</td><td>str</td><td>f64</td><td>str</td><td>i64</td><td>u32</td></tr></thead><tbody><tr><td>1</td><td>&quot;foo&quot;</td><td>0.020161</td><td>&quot;A&quot;</td><td>11</td><td>5</td></tr><tr><td>2</td><td>&quot;ham&quot;</td><td>0.38525</td><td>&quot;A&quot;</td><td>11</td><td>5</td></tr><tr><td>3</td><td>&quot;spam&quot;</td><td>0.556443</td><td>&quot;B&quot;</td><td>11</td><td>5</td></tr><tr><td>null</td><td>&quot;egg&quot;</td><td>0.033624</td><td>&quot;C&quot;</td><td>11</td><td>5</td></tr><tr><td>5</td><td>null</td><td>0.267556</td><td>&quot;B&quot;</td><td>11</td><td>5</td></tr></tbody></table></div>"
      ],
      "text/plain": [
       "shape: (5, 6)\n",
       "┌──────┬───────┬──────────┬────────┬─────────┬───────┐\n",
       "│ nrs  ┆ names ┆ random   ┆ groups ┆ nrs_sum ┆ count │\n",
       "│ ---  ┆ ---   ┆ ---      ┆ ---    ┆ ---     ┆ ---   │\n",
       "│ i64  ┆ str   ┆ f64      ┆ str    ┆ i64     ┆ u32   │\n",
       "╞══════╪═══════╪══════════╪════════╪═════════╪═══════╡\n",
       "│ 1    ┆ foo   ┆ 0.020161 ┆ A      ┆ 11      ┆ 5     │\n",
       "│ 2    ┆ ham   ┆ 0.38525  ┆ A      ┆ 11      ┆ 5     │\n",
       "│ 3    ┆ spam  ┆ 0.556443 ┆ B      ┆ 11      ┆ 5     │\n",
       "│ null ┆ egg   ┆ 0.033624 ┆ C      ┆ 11      ┆ 5     │\n",
       "│ 5    ┆ null  ┆ 0.267556 ┆ B      ┆ 11      ┆ 5     │\n",
       "└──────┴───────┴──────────┴────────┴─────────┴───────┘"
      ]
     },
     "execution_count": 6,
     "metadata": {},
     "output_type": "execute_result"
    }
   ],
   "source": [
    "df.with_columns(\n",
    "    pl.sum(\"nrs\").alias(\"nrs_sum\"),\n",
    "    pl.col(\"random\").count().alias(\"count\"),\n",
    ")"
   ]
  },
  {
   "cell_type": "markdown",
   "id": "7702a877-2d12-4903-b9bd-fecc35972d8b",
   "metadata": {},
   "source": [
    "In the filter context you filter the existing dataframe based on arbritary expression which evaluates to the Boolean data type."
   ]
  },
  {
   "cell_type": "code",
   "execution_count": 7,
   "id": "c7f7535d-d174-4247-a5d6-fb6e4650722e",
   "metadata": {},
   "outputs": [
    {
     "data": {
      "text/html": [
       "<div><style>\n",
       ".dataframe > thead > tr > th,\n",
       ".dataframe > tbody > tr > td {\n",
       "  text-align: right;\n",
       "}\n",
       "</style>\n",
       "<small>shape: (2, 4)</small><table border=\"1\" class=\"dataframe\"><thead><tr><th>nrs</th><th>names</th><th>random</th><th>groups</th></tr><tr><td>i64</td><td>str</td><td>f64</td><td>str</td></tr></thead><tbody><tr><td>3</td><td>&quot;spam&quot;</td><td>0.556443</td><td>&quot;B&quot;</td></tr><tr><td>5</td><td>null</td><td>0.267556</td><td>&quot;B&quot;</td></tr></tbody></table></div>"
      ],
      "text/plain": [
       "shape: (2, 4)\n",
       "┌─────┬───────┬──────────┬────────┐\n",
       "│ nrs ┆ names ┆ random   ┆ groups │\n",
       "│ --- ┆ ---   ┆ ---      ┆ ---    │\n",
       "│ i64 ┆ str   ┆ f64      ┆ str    │\n",
       "╞═════╪═══════╪══════════╪════════╡\n",
       "│ 3   ┆ spam  ┆ 0.556443 ┆ B      │\n",
       "│ 5   ┆ null  ┆ 0.267556 ┆ B      │\n",
       "└─────┴───────┴──────────┴────────┘"
      ]
     },
     "execution_count": 7,
     "metadata": {},
     "output_type": "execute_result"
    }
   ],
   "source": [
    "df.filter(pl.col(\"nrs\") > 2)"
   ]
  },
  {
   "cell_type": "markdown",
   "id": "ec448661-4537-4d03-9dc5-3f6965504bcd",
   "metadata": {},
   "source": [
    "In the groupby context expressions work on groups and thus may yield results of any length (a group may have many members)."
   ]
  },
  {
   "cell_type": "code",
   "execution_count": 8,
   "id": "edde8c8b-08ec-4037-87c7-2e5f3f1173b3",
   "metadata": {},
   "outputs": [
    {
     "data": {
      "text/html": [
       "<div><style>\n",
       ".dataframe > thead > tr > th,\n",
       ".dataframe > tbody > tr > td {\n",
       "  text-align: right;\n",
       "}\n",
       "</style>\n",
       "<small>shape: (3, 5)</small><table border=\"1\" class=\"dataframe\"><thead><tr><th>groups</th><th>nrs</th><th>count</th><th>random_sum</th><th>reversed names</th></tr><tr><td>str</td><td>i64</td><td>u32</td><td>f64</td><td>list[str]</td></tr></thead><tbody><tr><td>&quot;A&quot;</td><td>3</td><td>2</td><td>0.40541</td><td>[&quot;ham&quot;, &quot;foo&quot;]</td></tr><tr><td>&quot;B&quot;</td><td>8</td><td>2</td><td>0.556443</td><td>[null, &quot;spam&quot;]</td></tr><tr><td>&quot;C&quot;</td><td>null</td><td>1</td><td>0.033624</td><td>[&quot;egg&quot;]</td></tr></tbody></table></div>"
      ],
      "text/plain": [
       "shape: (3, 5)\n",
       "┌────────┬──────┬───────┬────────────┬────────────────┐\n",
       "│ groups ┆ nrs  ┆ count ┆ random_sum ┆ reversed names │\n",
       "│ ---    ┆ ---  ┆ ---   ┆ ---        ┆ ---            │\n",
       "│ str    ┆ i64  ┆ u32   ┆ f64        ┆ list[str]      │\n",
       "╞════════╪══════╪═══════╪════════════╪════════════════╡\n",
       "│ A      ┆ 3    ┆ 2     ┆ 0.40541    ┆ [\"ham\", \"foo\"] │\n",
       "│ B      ┆ 8    ┆ 2     ┆ 0.556443   ┆ [null, \"spam\"] │\n",
       "│ C      ┆ null ┆ 1     ┆ 0.033624   ┆ [\"egg\"]        │\n",
       "└────────┴──────┴───────┴────────────┴────────────────┘"
      ]
     },
     "execution_count": 8,
     "metadata": {},
     "output_type": "execute_result"
    }
   ],
   "source": [
    "df.groupby(\"groups\").agg(\n",
    "    pl.sum(\"nrs\"),  # sum nrs by groups\n",
    "    pl.col(\"random\").count().alias(\"count\"),  # count group members\n",
    "    # sum random where name != null\n",
    "    pl.col(\"random\").filter(pl.col(\"names\").is_not_null()).sum().suffix(\"_sum\"),\n",
    "    pl.col(\"names\").reverse().alias((\"reversed names\")),\n",
    ")"
   ]
  },
  {
   "cell_type": "markdown",
   "id": "33a2b9ef-29c3-4020-a88f-65e1a558825c",
   "metadata": {},
   "source": [
    "## Lazy v Eager API\n",
    "\n",
    "Polars supports two modes of operation: lazy and eager. In the eager API the query is executed immediately while in the lazy API the query is only evaluated once it is 'needed'. Deferring the execution to the last minute can have significant performance advantages that is why the Lazy API is preferred in most cases."
   ]
  },
  {
   "cell_type": "code",
   "execution_count": 9,
   "id": "c2242465-6642-420d-9132-1cd711c27fcf",
   "metadata": {},
   "outputs": [],
   "source": [
    "df = pl.read_csv(\"iris.csv\")\n",
    "df_small = df.filter(pl.col(\"sepal_length\") > 5)\n",
    "df_agg = df_small.groupby(\"species\").agg(pl.col(\"sepal_width\").mean())"
   ]
  },
  {
   "cell_type": "markdown",
   "id": "e4744fee-347e-4175-9efd-e5b85e212017",
   "metadata": {},
   "source": [
    "In this example we use the eager API to:\n",
    "\n",
    "- Read the iris dataset.\n",
    "- Filter the dataset based on sepal length\n",
    "- Calculate the mean of the sepal width per species\n",
    "\n",
    "Every step is executed immediately returning the intermediate results. This can be very wasteful as we might do work or load extra data that is not being used. If we instead used the lazy API and waited on execution until all the steps are defined then the query planner could perform various optimizations. In this case:\n",
    "\n",
    "Predicate pushdown: Apply filters as early as possible while reading the dataset, thus only reading rows with sepal length greater than 5.\n",
    "\n",
    "Projection pushdown: Select only the columns that are needed while reading the dataset, thus removing the need to load additional columns (e.g. petal length & petal width)l width)"
   ]
  },
  {
   "cell_type": "code",
   "execution_count": 10,
   "id": "2b64e01c-272d-44a2-b2f0-ffbd2b43268e",
   "metadata": {},
   "outputs": [
    {
     "data": {
      "text/html": [
       "<div><style>\n",
       ".dataframe > thead > tr > th,\n",
       ".dataframe > tbody > tr > td {\n",
       "  text-align: right;\n",
       "}\n",
       "</style>\n",
       "<small>shape: (3, 2)</small><table border=\"1\" class=\"dataframe\"><thead><tr><th>species</th><th>sepal_width</th></tr><tr><td>str</td><td>f64</td></tr></thead><tbody><tr><td>&quot;Versicolor&quot;</td><td>2.804255</td></tr><tr><td>&quot;Virginica&quot;</td><td>2.983673</td></tr><tr><td>&quot;Setosa&quot;</td><td>3.713636</td></tr></tbody></table></div>"
      ],
      "text/plain": [
       "shape: (3, 2)\n",
       "┌────────────┬─────────────┐\n",
       "│ species    ┆ sepal_width │\n",
       "│ ---        ┆ ---         │\n",
       "│ str        ┆ f64         │\n",
       "╞════════════╪═════════════╡\n",
       "│ Versicolor ┆ 2.804255    │\n",
       "│ Virginica  ┆ 2.983673    │\n",
       "│ Setosa     ┆ 3.713636    │\n",
       "└────────────┴─────────────┘"
      ]
     },
     "execution_count": 10,
     "metadata": {},
     "output_type": "execute_result"
    }
   ],
   "source": [
    "q = (\n",
    "    pl.scan_csv(\"iris.csv\")\n",
    "    .filter(pl.col(\"sepal_length\") > 5)\n",
    "    .groupby(\"species\")\n",
    "    .agg(pl.col(\"sepal_width\").mean())\n",
    ")\n",
    "\n",
    "df = q.collect()\n",
    "df"
   ]
  },
  {
   "cell_type": "markdown",
   "id": "9104d364-988d-4b02-bb06-67b32ac00b54",
   "metadata": {},
   "source": [
    "It is also possible to swap out read_csv for scan_csv directly in code, rather than using the \"q\" structure, it is merly a grouping mechanism."
   ]
  },
  {
   "cell_type": "code",
   "execution_count": 11,
   "id": "8deea234-ca41-4ad5-a680-16bc8f023803",
   "metadata": {},
   "outputs": [
    {
     "data": {
      "text/plain": [
       "'AGGREGATE\\n\\t[col(\"sepal_width\").mean()] BY [col(\"species\")] FROM\\n\\n    CSV SCAN iris.csv\\n    PROJECT 3/5 COLUMNS\\n    SELECTION: [(col(\"sepal_length\")) > (5.0)]'"
      ]
     },
     "execution_count": 11,
     "metadata": {},
     "output_type": "execute_result"
    }
   ],
   "source": [
    "q.explain()"
   ]
  },
  {
   "cell_type": "markdown",
   "id": "547a01ab-c66b-47cd-880c-ae9398cb0ac6",
   "metadata": {},
   "source": [
    "These will significantly lower the load on memory & CPU thus allowing you to fit bigger datasets in memory and process faster. Once the query is defined you call collect to inform Polars that you want to execute it. "
   ]
  },
  {
   "cell_type": "markdown",
   "id": "77a0990d-5df1-447b-9f54-54f40f4c388f",
   "metadata": {},
   "source": [
    "## Streaming API\n",
    "\n",
    "One additional benefit of the lazy API is that it allows queries to be executed in a streaming manner. Instead of processing the data all-at-once Polars can execute the query in batches allowing you to process datasets that are larger-than-memory.\r\n",
    "\r\n",
    "To tell Polars we want to execute a query in streaming mode we pass the streaming=True argument to colle.\n",
    "\n",
    "Streaming is still in development. We can ask Polars to execute any lazy query in streaming mode. However, not all lazy operations support streaming. If there is an operation for which streaming is not supported Polars will run the query in non-streaming mode.ct"
   ]
  },
  {
   "cell_type": "code",
   "execution_count": 12,
   "id": "0c1b51d3-2595-4af4-a4ad-c0302e262061",
   "metadata": {},
   "outputs": [],
   "source": [
    "q = (\n",
    "    pl.scan_csv(\"iris.csv\")\n",
    "    .filter(pl.col(\"sepal_length\") > 5)\n",
    "    .groupby(\"species\")\n",
    "    .agg(pl.col(\"sepal_width\").mean())\n",
    ")\n",
    "\n",
    "df = q.collect(streaming=True)"
   ]
  },
  {
   "cell_type": "markdown",
   "id": "d0de6ba7-7aeb-4f6f-ae73-e18355e9bdd0",
   "metadata": {},
   "source": [
    "## Pandas v Polars, Syntax\n",
    "\n",
    "[Source](https://pola-rs.github.io/polars-book/user-guide/migration/pandas/#pandas-transform)\n",
    "\n",
    "### Selecting Columns\n",
    "\n",
    "#### Pandas\n",
    "\n",
    "df['a']\n",
    "\n",
    "df.loc[:,'a']\n",
    "\n",
    "#### Polars\n",
    "\n",
    "df.select('a')\n",
    "\n",
    "### Selecting conditional rows\n",
    "\n",
    "#### Polars\n",
    "\n",
    "df.filter(pl.col('a') < 10)\n",
    "\n",
    "### Column Assignment\n",
    "\n",
    "#### Pandas\n",
    "\n",
    "df[\"tenXValue\"] = df[\"value\"] * 10\n",
    "\n",
    "df[\"hundredXValue\"] = df[\"value\"] * 100\n",
    "\n",
    "#### Polar\n",
    "\n",
    "df.with_columns( (pl.col(\"value\") * 10).alias(\"tenXValue\")  (pl.col(\"value\") * 100).alias(\"hundredXValue,\r\n",
    ")s\n",
    "\n",
    "a"
   ]
  },
  {
   "cell_type": "markdown",
   "id": "6fb16d5d-8217-4c77-8e2b-c8126143b8c1",
   "metadata": {},
   "source": [
    "## Pandas v Polars, Performance\n",
    "\n",
    "This is a apples to apples test in data processing, it does not conside the vast benefits from using lazy execution methods"
   ]
  },
  {
   "cell_type": "code",
   "execution_count": 13,
   "id": "7269d730-7b74-4df8-9903-29814838d216",
   "metadata": {},
   "outputs": [
    {
     "name": "stdout",
     "output_type": "stream",
     "text": [
      "Pandas execution time: 31.663 seconds\n",
      "Polars execution time: 16.005 seconds\n"
     ]
    }
   ],
   "source": [
    "import time\n",
    "\n",
    "# Create a sample dataframe\n",
    "n = 200000000\n",
    "df_pandas = pd.DataFrame({'A': range(n), 'B': range(n, 0, -1)})\n",
    "\n",
    "# Convert the Pandas dataframe to a Polars dataframe\n",
    "df_polars = pl.DataFrame(df_pandas)\n",
    "\n",
    "# Benchmark Pandas\n",
    "start_time = time.time()\n",
    "# Perform a computation task on Pandas dataframe (e.g., sorting)\n",
    "df_pandas.sort_values('B', inplace=True)\n",
    "pandas_time = time.time() - start_time\n",
    "\n",
    "# Benchmark Polars\n",
    "start_time = time.time()\n",
    "# Perform the same computation task on Polars dataframe\n",
    "df_polars = df_polars.sort(\"B\")\n",
    "polars_time = time.time() - start_time\n",
    "\n",
    "print(\"Pandas execution time: {:.3f} seconds\".format(pandas_time))\n",
    "print(\"Polars execution time: {:.3f} seconds\".format(polars_time))"
   ]
  },
  {
   "cell_type": "markdown",
   "id": "640a36d1-068c-4a4c-80e3-671b4b9a4a47",
   "metadata": {},
   "source": [
    "## Key Findings\n",
    "\n",
    "- PRO: Polars is built upon the safe Arrow2 implementation of the [Apache Arrow specification](https://arrow.apache.org/docs/format/Columnar.html), enabling efficient resource use and processing performance. By doing so it also integrates seamlessly with other tools in the Arrow ecosystem.\n",
    "- PRO: Polars supports eager evaluation and lazy evaluation whereas Pandas only supports eager evaluation.\n",
    "- CON: Polars is still developing, it may lack some functional operations avaliable in pandas.\n",
    "- CON: The syntax and use of Polars differs enough from Pandas to have a moderate learning curve.\n",
    "- PRO: Polars uses Apache Arrow arrays to represent data in memory while Pandas uses Numpy arrays\r\n",
    "Polars represents data in memory with Arrow arrays while Pandas represents data in memory with Numpy arrays. Apache Arrow is an emerging standard for in-memory columnar analytics that can accelerate data load times, reduce memory usage and accelerate calculations.\n",
    "- PRO Polars exploits the strong support for concurrency in Rust to run many operations in parallel. While some operations in Pandas are multi-threaded the core of the library is single-threaded and an additional library such as Dask must be used to parallelize operations:"
   ]
  },
  {
   "cell_type": "markdown",
   "id": "6e3b48c4-5685-40c9-8ae2-dcf4f3e9c718",
   "metadata": {},
   "source": [
    "## Reading\n",
    "\n",
    "- https://www.datacamp.com/blog/an-introduction-to-polars-python-s-tool-for-large-scale-data-analysis\n",
    "- \n",
    "\n"
   ]
  },
  {
   "cell_type": "code",
   "execution_count": null,
   "id": "2afed719-ea18-484d-ae86-25c89c129f65",
   "metadata": {},
   "outputs": [],
   "source": []
  }
 ],
 "metadata": {
  "kernelspec": {
   "display_name": "Python 3 (ipykernel)",
   "language": "python",
   "name": "python3"
  },
  "language_info": {
   "codemirror_mode": {
    "name": "ipython",
    "version": 3
   },
   "file_extension": ".py",
   "mimetype": "text/x-python",
   "name": "python",
   "nbconvert_exporter": "python",
   "pygments_lexer": "ipython3",
   "version": "3.10.9"
  }
 },
 "nbformat": 4,
 "nbformat_minor": 5
}
